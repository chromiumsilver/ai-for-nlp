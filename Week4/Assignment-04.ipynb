{
 "cells": [
  {
   "cell_type": "markdown",
   "metadata": {},
   "source": [
    "## Assignment-04"
   ]
  },
  {
   "cell_type": "markdown",
   "metadata": {},
   "source": [
    "### Part I Review the online programming & Part1-2: Finish the Solution Parse Part of Edit-Distance\n",
    "Please refer to [Lecture-04.ipynb](https://github.com/chromiumsilver/ai-for-nlp/tree/master/Week4/Lecture-04.ipynb)"
   ]
  },
  {
   "cell_type": "markdown",
   "metadata": {},
   "source": [
    "### Part 2 Choose 1 - 2 books to keep reading: \n",
    "\n",
    "+ [ ] SICP, Structure and Interpretation of Computer Programming. \n",
    "+ [ ] Introduction to Algorithms \n",
    "+ [x] Artificial Intelligence A Modern Approach (3rd Edition) \n",
    "+ [x] Code Complete 2 \n",
    "+ [ ] Programming Pearls \n",
    "+ [ ] Deep Learning\n",
    "+ [ ] 黑快与画家\n",
    "+ [ ] 数学之美\n",
    "+ [ ] Fluent Python\n",
    "+ [ ] Hands on Tensorflow\n",
    "+ [ ] Conference: NIPS_ ICML_ ICLR_ ACL_ AAAI\n",
    "\n",
    "> most books you may find in our github: https://github.com/Computing-Intelligence/References"
   ]
  },
  {
   "cell_type": "markdown",
   "metadata": {},
   "source": [
    "### Part 3: Answer following questions: "
   ]
  },
  {
   "cell_type": "markdown",
   "metadata": {},
   "source": [
    "1. **Why do we need dynamic programming? What's the difference between dynamic programming and previous talked `search` problem?**\n",
    "Dynamic programming is a general approach to solving problems, including search problem and optimization problem. Dynamic programming applies when a problem can be partitioned into overlapping subproblems. We solve each subproblem just once and save the solutions to subproblems in a table, avoiding any repetitive work. Dynamic programming can solve many problems in polynomial time for which a naive approach would take exponential or factorial time."
   ]
  },
  {
   "cell_type": "markdown",
   "metadata": {},
   "source": [
    "2. **Why do we still need dynamic programming? Why not we train a machine learning to fit a function which could get the `right` answer based on inputs?**\n",
    "    * Machine learning requires massive, high-quality data sets to train on.\n",
    "    * It takes time and computation power for machine learning algorithm to train in order to reach sufficient accuracy.\n",
    "    * Dynamic programming can find the global optimal solution, while machine learning is only guaranteed to find local optimal solution in many cases."
   ]
  },
  {
   "cell_type": "markdown",
   "metadata": {},
   "source": [
    "3. **Can you catch up at least 3 problems which could solved by Dynamic Programming?**  \n",
    "    * 瓷砖切割\n",
    "    * 最优路径规划\n",
    "    * DNA序列比对(sequence alignment)"
   ]
  },
  {
   "cell_type": "markdown",
   "metadata": {},
   "source": [
    "4. **Can you catch up at least 3 problems wich could sloved by Edit Distance?**   \n",
    "    * spell correction\n",
    "    * evaluating machine translation and speech recognition\n",
    "    * identify duplicates"
   ]
  },
  {
   "cell_type": "markdown",
   "metadata": {},
   "source": [
    "5. **Please summarize the three main features of Dynamic Programming, and make a concise explain for each feature.**  \n",
    "    * Analyze overlapping subproblems: break the original problem into subproblems\n",
    "    * Save the solutions to subproblems: stored in a table, use a decorator in Python (lru_cache or custom one)\n",
    "    * Construct an optimal solution from the optimal solutions of its subproblems"
   ]
  },
  {
   "cell_type": "markdown",
   "metadata": {},
   "source": [
    "6. **What's the disadvantages of Dynamic Programming? (You may need search by yourself in Internet)**  \n",
    "    * storing solutions to subproblems consumes memory\n",
    "    * no general formulation, every problems need to be solved in its own way.   "
   ]
  },
  {
   "cell_type": "markdown",
   "metadata": {},
   "source": [
    "## Part 4 Preparation of Project-01"
   ]
  },
  {
   "cell_type": "markdown",
   "metadata": {},
   "source": [
    "1. Using python Flask or Bottle to finish your first simple web app:\n",
    "> https://bottlepy.org/\n",
    "\n",
    "2. Learn what's the SQL, and try some simple SQL operations:\n",
    "> https://www.w3schools.com/sql/sql_intro.asp\n",
    "\n",
    "3. Learn what's the HTML ( *ONLY* need to know the basic things)\n",
    "> https://getbootstrap.com/; https://www.w3schools.com/html/"
   ]
  },
  {
   "cell_type": "markdown",
   "metadata": {},
   "source": [
    "## (Optinal) Finish the k-person-salesman problem:"
   ]
  },
  {
   "cell_type": "markdown",
   "metadata": {},
   "source": [
    "给定一个初始点 $P$, 已经 $k$个车辆，如何从该点出发，经这 k 个车辆经过所以的点全部一次，而且所走过的路程最短? "
   ]
  },
  {
   "cell_type": "code",
   "execution_count": 1,
   "metadata": {},
   "outputs": [],
   "source": [
    "import random\n",
    "import numpy as np\n",
    "from scipy.spatial import distance\n",
    "import matplotlib.pylab as plt"
   ]
  },
  {
   "cell_type": "code",
   "execution_count": 2,
   "metadata": {},
   "outputs": [],
   "source": [
    "latitudes = [random.randint(-100, 100) for _ in range(15)]\n",
    "longitude = [random.randint(-100, 100) for _ in range(15)]"
   ]
  },
  {
   "cell_type": "code",
   "execution_count": 3,
   "metadata": {},
   "outputs": [
    {
     "data": {
      "text/plain": [
       "[(86, 50),\n",
       " (73, 17),\n",
       " (-68, 35),\n",
       " (56, 4),\n",
       " (77, 13),\n",
       " (-66, -18),\n",
       " (15, -78),\n",
       " (76, 19),\n",
       " (-39, 4),\n",
       " (61, -31),\n",
       " (58, -23),\n",
       " (4, -74),\n",
       " (93, 54),\n",
       " (-23, -96),\n",
       " (-22, 15)]"
      ]
     },
     "execution_count": 3,
     "metadata": {},
     "output_type": "execute_result"
    }
   ],
   "source": [
    "points = list(zip(latitudes, longitude))\n",
    "points"
   ]
  },
  {
   "cell_type": "code",
   "execution_count": 4,
   "metadata": {},
   "outputs": [
    {
     "data": {
      "text/plain": [
       "10"
      ]
     },
     "execution_count": 4,
     "metadata": {},
     "output_type": "execute_result"
    }
   ],
   "source": [
    "start_point = random.randint(0, len(points)-1)\n",
    "start_point"
   ]
  },
  {
   "cell_type": "code",
   "execution_count": 5,
   "metadata": {},
   "outputs": [
    {
     "data": {
      "image/png": "[encoded data removed]",
      "text/plain": [
       "<Figure size 432x288 with 1 Axes>"
      ]
     },
     "metadata": {
      "needs_background": "light"
     },
     "output_type": "display_data"
    }
   ],
   "source": [
    "plt.scatter(latitudes, longitude)\n",
    "plt.scatter([latitudes[start_point]], [longitude[start_point]], color='r');"
   ]
  },
  {
   "cell_type": "markdown",
   "metadata": {},
   "source": [
    "### k=1"
   ]
  },
  {
   "cell_type": "markdown",
   "metadata": {},
   "source": [
    "#### Greedy algorithm (approximation algorithm, may not find the optimal solution)\n",
    "Time complexity: $O(n^2)$"
   ]
  },
  {
   "cell_type": "code",
   "execution_count": 6,
   "metadata": {},
   "outputs": [],
   "source": [
    "def build_graph(points):\n",
    "    \"\"\"Represent the points and pair-wise distances in an adjacency matrix.\"\"\"\n",
    "    graph = distance.cdist(points, points, metric='euclidean')\n",
    "    for i in range(len(graph)):\n",
    "        graph[i][i] = float('inf')\n",
    "    return graph"
   ]
  },
  {
   "cell_type": "code",
   "execution_count": 7,
   "metadata": {},
   "outputs": [],
   "source": [
    "def greedy_shortest_path(s):\n",
    "    \"\"\"Return the shortest path given starting point s.\"\"\"\n",
    "    global points\n",
    "    visited = set()\n",
    "    path = []\n",
    "    i = s\n",
    "    while len(visited) < len(points):\n",
    "        # print(visited)\n",
    "        if i not in visited:\n",
    "            visited.add(i) # mark point i as visited\n",
    "            path.append(i) # update the shortest path\n",
    "            next_i = get_nearest_point(i, visited) # visit the nearest point to i next\n",
    "            i = next_i\n",
    "    return path"
   ]
  },
  {
   "cell_type": "code",
   "execution_count": 8,
   "metadata": {},
   "outputs": [],
   "source": [
    "def get_nearest_point(i, visited):\n",
    "    \"\"\"Compute the nearest point to the ith point that is not visited.\"\"\"\n",
    "    global points\n",
    "    min_dist = float('inf')\n",
    "    min_idx = 0\n",
    "    for j in range(len(points)):\n",
    "        if j in visited:\n",
    "            continue\n",
    "        if graph[i][j] < min_dist:\n",
    "            min_dist = graph[i][j]\n",
    "            min_idx = j\n",
    "    return min_idx"
   ]
  },
  {
   "cell_type": "code",
   "execution_count": 9,
   "metadata": {},
   "outputs": [],
   "source": [
    "graph = build_graph(points)\n",
    "path = greedy_shortest_path(start_point)\n",
    "coord_path = [points[i] for i in path]"
   ]
  },
  {
   "cell_type": "code",
   "execution_count": 10,
   "metadata": {},
   "outputs": [
    {
     "name": "stdout",
     "output_type": "stream",
     "text": [
      "The length of shortest path: 535.0625182036587\n"
     ]
    }
   ],
   "source": [
    "min_dist = 0\n",
    "for i in range(len(path)-1):\n",
    "    min_dist += graph[path[i]][path[i+1]]\n",
    "print('The length of shortest path: {}'.format(min_dist))"
   ]
  },
  {
   "cell_type": "code",
   "execution_count": 11,
   "metadata": {},
   "outputs": [
    {
     "name": "stdout",
     "output_type": "stream",
     "text": [
      "10->9->3->1->7->4->0->12->14->8->5->2->11->6->13\n",
      "(58, -23)->(61, -31)->(56, 4)->(73, 17)->(76, 19)->(77, 13)->(86, 50)->(93, 54)->(-22, 15)->(-39, 4)->(-66, -18)->(-68, 35)->(4, -74)->(15, -78)->(-23, -96)\n"
     ]
    },
    {
     "data": {
      "image/png": "[encoded data removed]",
      "text/plain": [
       "<Figure size 432x288 with 1 Axes>"
      ]
     },
     "metadata": {
      "needs_background": "light"
     },
     "output_type": "display_data"
    }
   ],
   "source": [
    "print('->'.join(map(str, path)))\n",
    "print('->'.join(map(str, coord_path)))\n",
    "plt.plot(*zip(*coord_path), '-o')\n",
    "# plot the starting point in red\n",
    "plt.plot([latitudes[start_point]], [longitude[start_point]], 'ro');"
   ]
  },
  {
   "cell_type": "markdown",
   "metadata": {},
   "source": [
    "#### Dynamic programming\n",
    "Time complexity: $O(n^2*2^n)$, space complexity: $O(n * 2^n)$"
   ]
  },
  {
   "cell_type": "code",
   "execution_count": 12,
   "metadata": {},
   "outputs": [],
   "source": [
    "from functools import lru_cache"
   ]
  },
  {
   "cell_type": "code",
   "execution_count": 13,
   "metadata": {},
   "outputs": [],
   "source": [
    "@lru_cache(maxsize=2**20)\n",
    "def shortest_path(start, points):\n",
    "    \"\"\"Given the start point, compute the shortest path that visits all points exactly once.\n",
    "    Args:\n",
    "        start: int, the starting point\n",
    "        points: tuple of all unvisited points\n",
    "    Return:\n",
    "        int: the length of shortest path\n",
    "    \"\"\"\n",
    "    global solution\n",
    "    \n",
    "    if not points:\n",
    "        solution[(start, ())] = -1 # mark the end of the path\n",
    "        return 0 \n",
    "    \n",
    "    points_set = set(points) # note: set is not hashable \n",
    "    candidates = [(graph[start][i] + shortest_path(i, tuple(points_set - {i})), i) for i in points]\n",
    "    \n",
    "    shortest, next_idx = min(candidates, key=lambda x: x[0])\n",
    "    solution[(start, points)] = next_idx\n",
    "    # print(solution)\n",
    "    return shortest"
   ]
  },
  {
   "cell_type": "code",
   "execution_count": 14,
   "metadata": {},
   "outputs": [],
   "source": [
    "p_indices = set(range(len(points)))"
   ]
  },
  {
   "cell_type": "code",
   "execution_count": 15,
   "metadata": {},
   "outputs": [
    {
     "name": "stdout",
     "output_type": "stream",
     "text": [
      "The length of shortest path: 477.16192522051125\n"
     ]
    }
   ],
   "source": [
    "solution = {}\n",
    "min_dist = shortest_path(start_point, tuple(p_indices-{start_point}))\n",
    "print('The length of shortest path: {}'.format(min_dist))"
   ]
  },
  {
   "cell_type": "code",
   "execution_count": null,
   "metadata": {},
   "outputs": [],
   "source": [
    "solution"
   ]
  },
  {
   "cell_type": "code",
   "execution_count": 17,
   "metadata": {},
   "outputs": [],
   "source": [
    "def parse_solution(start, points):\n",
    "    path = []\n",
    "    point = start\n",
    "    \n",
    "    while point != -1:\n",
    "        path.append(point)\n",
    "        points = points - {point}\n",
    "        next_point = solution[(point, tuple(points))] # next point in the path\n",
    "        point = next_point \n",
    "        \n",
    "    return path"
   ]
  },
  {
   "cell_type": "code",
   "execution_count": 18,
   "metadata": {},
   "outputs": [],
   "source": [
    "dp_path = parse_solution(start_point, p_indices)\n",
    "coord_path = [points[i] for i in dp_path]"
   ]
  },
  {
   "cell_type": "code",
   "execution_count": 19,
   "metadata": {},
   "outputs": [
    {
     "name": "stdout",
     "output_type": "stream",
     "text": [
      "10->9->6->11->13->5->2->8->14->3->4->1->7->0->12\n",
      "(58, -23)->(61, -31)->(15, -78)->(4, -74)->(-23, -96)->(-66, -18)->(-68, 35)->(-39, 4)->(-22, 15)->(56, 4)->(77, 13)->(73, 17)->(76, 19)->(86, 50)->(93, 54)\n"
     ]
    },
    {
     "data": {
      "image/png": "[encoded data removed]",
      "text/plain": [
       "<Figure size 432x288 with 1 Axes>"
      ]
     },
     "metadata": {
      "needs_background": "light"
     },
     "output_type": "display_data"
    }
   ],
   "source": [
    "print('->'.join(map(str, dp_path)))\n",
    "print('->'.join(map(str, coord_path)))\n",
    "plt.plot(*zip(*coord_path), '-o')\n",
    "plt.plot([latitudes[start_point]], [longitude[start_point]], 'ro');"
   ]
  },
  {
   "cell_type": "code",
   "execution_count": null,
   "metadata": {},
   "outputs": [],
   "source": []
  }
 ],
 "metadata": {
  "kernelspec": {
   "display_name": "Python 3",
   "language": "python",
   "name": "python3"
  },
  "language_info": {
   "codemirror_mode": {
    "name": "ipython",
    "version": 3
   },
   "file_extension": ".py",
   "mimetype": "text/x-python",
   "name": "python",
   "nbconvert_exporter": "python",
   "pygments_lexer": "ipython3",
   "version": "3.6.6"
  }
 },
 "nbformat": 4,
 "nbformat_minor": 2
}
